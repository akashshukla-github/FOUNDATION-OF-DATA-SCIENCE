{
  "nbformat": 4,
  "nbformat_minor": 0,
  "metadata": {
    "colab": {
      "provenance": [],
      "authorship_tag": "ABX9TyOgziPqhxsulzlZMeqNChFB",
      "include_colab_link": true
    },
    "kernelspec": {
      "name": "python3",
      "display_name": "Python 3"
    },
    "language_info": {
      "name": "python"
    }
  },
  "cells": [
    {
      "cell_type": "markdown",
      "metadata": {
        "id": "view-in-github",
        "colab_type": "text"
      },
      "source": [
        "<a href=\"https://colab.research.google.com/github/OshankAgrawal/Foundation-of-Data-Science/blob/main/PANDAS_Exercise.ipynb\" target=\"_parent\"><img src=\"https://colab.research.google.com/assets/colab-badge.svg\" alt=\"Open In Colab\"/></a>"
      ]
    },
    {
      "cell_type": "markdown",
      "source": [
        "# EXERCISE"
      ],
      "metadata": {
        "id": "5tilpoxKzOyk"
      }
    },
    {
      "cell_type": "markdown",
      "source": [
        "**Question 01:- Write a Pandas program to create a dataframe from a dictionary and display it.**\n",
        "\n",
        "Sample data: {&#39;X&#39;:[78,85,96,80,86], &#39;Y&#39;:[84,94,89,83,86],&#39;Z&#39;:[86,97,96,72,83]}"
      ],
      "metadata": {
        "id": "GF4eWynRzyL4"
      }
    },
    {
      "cell_type": "markdown",
      "source": [
        "Answer"
      ],
      "metadata": {
        "id": "L4CV02sSzaZs"
      }
    },
    {
      "cell_type": "code",
      "source": [
        "import pandas as pd\n",
        "df = pd.DataFrame({'X':[78,85,96,80,86], 'Y':[84,94,89,83,86],'Z':[86,97,96,72,83]})\n",
        "print(df)"
      ],
      "metadata": {
        "colab": {
          "base_uri": "https://localhost:8080/"
        },
        "id": "HabAfDhszcNu",
        "outputId": "63903ed6-6c81-4ed1-a5d1-658af3c6168d"
      },
      "execution_count": null,
      "outputs": [
        {
          "output_type": "stream",
          "name": "stdout",
          "text": [
            "    X   Y   Z\n",
            "0  78  84  86\n",
            "1  85  94  97\n",
            "2  96  89  96\n",
            "3  80  83  72\n",
            "4  86  86  83\n"
          ]
        }
      ]
    },
    {
      "cell_type": "markdown",
      "source": [
        "About **pd.DataFrame()**\n",
        "\n",
        "Raference Link: https://pandas.pydata.org/pandas-docs/stable/reference/api/pandas.DataFrame.html"
      ],
      "metadata": {
        "id": "XMNR6iXP3bV1"
      }
    },
    {
      "cell_type": "markdown",
      "source": [
        "**Question 02:- Write a Pandas program to create and display a DataFrame from a specified dictionary data which has the index labels.**\n",
        "\n",
        "Sample Python dictionary data and list labels:\n",
        "\n",
        "exam_data = {&#39;name&#39;: [&#39;Anastasia&#39;, &#39;Dima&#39;, &#39;Katherine&#39;, &#39;James&#39;, &#39;Emily&#39;,\n",
        "&#39;Michael&#39;, &#39;Matthew&#39;, &#39;Laura&#39;, &#39;Kevin&#39;, &#39;Jonas&#39;],\n",
        "&#39;\n",
        "\n",
        "score&#39;: [12.5, 9, 16.5, np.nan, 9, 20, 14.5, np.nan, 8, 19],\n",
        "&#39;\n",
        "\n",
        "attempts&#39;: [1, 3, 2, 3, 2, 3, 1, 1, 2, 1],\n",
        "&#39;\n",
        "\n",
        "qualify&#39;: [&#39;yes&#39;, &#39;no&#39;, &#39;yes&#39;, &#39;no&#39;, &#39;no&#39;, &#39;yes&#39;, &#39;yes&#39;, &#39;no&#39;, &#39;no&#39;, &#39;yes&#39;]}\n",
        "\n",
        "labels = [&#39;a&#39;, &#39;b&#39;, &#39;c&#39;, &#39;d&#39;, &#39;e&#39;, &#39;f&#39;, &#39;g&#39;, &#39;h&#39;, &#39;i&#39;, &#39;j&#39;]"
      ],
      "metadata": {
        "id": "Wubc_DO30yzM"
      }
    },
    {
      "cell_type": "code",
      "source": [
        "import pandas as pd\n",
        "exam_data = {'name': ['Anastasia', 'Dima', 'Katherine', 'James', 'Emily', 'Michael', 'Matthew', 'Laura', 'Kevin', 'Jonas'], 'score': [12.5, 9, 16.5, 54, 9, 20, 14.5, 65, 8, 19], 'attempts': [1, 3, 2, 3, 2, 3, 1, 1, 2, 1], 'qualify': ['yes', 'no', 'yes', 'no', 'no', 'yes', 'yes', 'no', 'no', 'yes']}\n",
        "df = pd.DataFrame(exam_data, index=['a', 'b', 'c', 'd', 'e', 'f', 'g', 'h', 'i', 'j'])\n",
        "print(df)"
      ],
      "metadata": {
        "colab": {
          "base_uri": "https://localhost:8080/"
        },
        "id": "bhHUmtuT1U2Q",
        "outputId": "7f2a4067-c7d9-4993-a087-bc1c768df4d9"
      },
      "execution_count": 1,
      "outputs": [
        {
          "output_type": "stream",
          "name": "stdout",
          "text": [
            "        name  score  attempts qualify\n",
            "a  Anastasia   12.5         1     yes\n",
            "b       Dima    9.0         3      no\n",
            "c  Katherine   16.5         2     yes\n",
            "d      James   54.0         3      no\n",
            "e      Emily    9.0         2      no\n",
            "f    Michael   20.0         3     yes\n",
            "g    Matthew   14.5         1     yes\n",
            "h      Laura   65.0         1      no\n",
            "i      Kevin    8.0         2      no\n",
            "j      Jonas   19.0         1     yes\n"
          ]
        }
      ]
    },
    {
      "cell_type": "markdown",
      "source": [
        "About **pd.DataFrame()**\n",
        "\n",
        "Reference Link: https://pandas.pydata.org/pandas-docs/stable/reference/api/pandas.DataFrame.html\n",
        "\n"
      ],
      "metadata": {
        "id": "rpQhLY80XlYR"
      }
    },
    {
      "cell_type": "markdown",
      "source": [
        "**Question 03:- Write a Pandas program to get the first 3 rows of a given DataFrame.**\n",
        "\n",
        "Sample Python dictionary data and list labels:\n",
        "\n",
        "data = {'name': ['Anastasia', 'Dima', 'Katherine', 'James', 'Emily','Michael', 'Matthew', 'Laura', 'Kevin', 'Jonas'],\n",
        "'score': [12.5, 9, 16.5, np.nan, 9, 20, 14.5, np.nan, 8, 19],\n",
        "'attempts': [1, 3, 2, 3, 2, 3, 1, 1, 2, 1],\n",
        "'qualify': ['yes', 'no', 'yes', 'no', 'no', 'yes', 'yes', 'no', 'no', 'yes']}\n",
        "labels = ['a', 'b', 'c', 'd', 'e', 'f', 'g', 'h', 'i', 'j']\n"
      ],
      "metadata": {
        "id": "blRVUN3Z33qu"
      }
    },
    {
      "cell_type": "markdown",
      "source": [
        "**Method 1**"
      ],
      "metadata": {
        "id": "5kqkE1ziswSv"
      }
    },
    {
      "cell_type": "code",
      "source": [
        "import pandas as pd\n",
        "exam_data = {'name': ['Anastasia', 'Dima', 'Katherine', 'James', 'Emily', 'Michael', 'Matthew', 'Laura', 'Kevin', 'Jonas'], 'score': [12.5, 9, 16.5, 54, 9, 20, 14.5, 65, 8, 19], 'attempts': [1, 3, 2, 3, 2, 3, 1, 1, 2, 1], 'qualify': ['yes', 'no', 'yes', 'no', 'no', 'yes', 'yes', 'no', 'no', 'yes']}\n",
        "df = pd.DataFrame(exam_data, index=['a', 'b', 'c', 'd', 'e', 'f', 'g', 'h', 'i', 'j'])\n",
        "print(\"Print first three rows od data..\")\n",
        "print(df.head(3))"
      ],
      "metadata": {
        "colab": {
          "base_uri": "https://localhost:8080/"
        },
        "id": "v_RXYTgcV3h7",
        "outputId": "60d94712-cd72-4ab1-cb04-fc5119205b1d"
      },
      "execution_count": 2,
      "outputs": [
        {
          "output_type": "stream",
          "name": "stdout",
          "text": [
            "Print first three rows od data..\n",
            "        name  score  attempts qualify\n",
            "a  Anastasia   12.5         1     yes\n",
            "b       Dima    9.0         3      no\n",
            "c  Katherine   16.5         2     yes\n"
          ]
        }
      ]
    },
    {
      "cell_type": "markdown",
      "source": [
        "**Method 2**"
      ],
      "metadata": {
        "id": "NZ4OM72rstsl"
      }
    },
    {
      "cell_type": "code",
      "source": [
        "import pandas as pd\n",
        "exam_data = {'name': ['Anastasia', 'Dima', 'Katherine', 'James', 'Emily', 'Michael', 'Matthew', 'Laura', 'Kevin', 'Jonas'], 'score': [12.5, 9, 16.5, 54, 9, 20, 14.5, 65, 8, 19], 'attempts': [1, 3, 2, 3, 2, 3, 1, 1, 2, 1], 'qualify': ['yes', 'no', 'yes', 'no', 'no', 'yes', 'yes', 'no', 'no', 'yes']}\n",
        "df = pd.DataFrame(exam_data, index=['a', 'b', 'c', 'd', 'e', 'f', 'g', 'h', 'i', 'j'])\n",
        "print(\"Print first three rows od data..\")\n",
        "print(df.iloc[0:3])"
      ],
      "metadata": {
        "colab": {
          "base_uri": "https://localhost:8080/"
        },
        "id": "PEpsFSUMsbFm",
        "outputId": "a0f7aa05-dbeb-4098-8898-df1c70161662"
      },
      "execution_count": 65,
      "outputs": [
        {
          "output_type": "stream",
          "name": "stdout",
          "text": [
            "Print first three rows od data..\n",
            "        name  score  attempts qualify\n",
            "a  Anastasia   12.5         1     yes\n",
            "b       Dima    9.0         3      no\n",
            "c  Katherine   16.5         2     yes\n"
          ]
        }
      ]
    },
    {
      "cell_type": "markdown",
      "source": [
        "**Question 04:- Write a Pandas program to select the &#39;name&#39; and &#39;score&#39; columns from the following DataFrame.**\n",
        "\n",
        "\n",
        "Sample Python dictionary data and list labels:\n",
        "\n",
        "data = {'name': ['Anastasia', 'Dima', 'Katherine', 'James', 'Emily','Michael', 'Matthew', 'Laura', 'Kevin', 'Jonas'], 'score': [12.5, 9, 16.5, np.nan, 9, 20, 14.5, np.nan, 8, 19], 'attempts': [1, 3, 2, 3, 2, 3, 1, 1, 2, 1], 'qualify': ['yes', 'no', 'yes', 'no', 'no', 'yes', 'yes', 'no', 'no', 'yes']}labels = ['a', 'b', 'c', 'd', 'e', 'f', 'g', 'h', 'i', 'j']"
      ],
      "metadata": {
        "id": "l1L4DmzJSEpZ"
      }
    },
    {
      "cell_type": "code",
      "source": [
        "import pandas as pd\n",
        "exam_data = {'name': ['Anastasia', 'Dima', 'Katherine', 'James', 'Emily', 'Michael', 'Matthew', 'Laura', 'Kevin', 'Jonas'], 'score': [12.5, 9, 16.5, 54, 9, 20, 14.5, 65, 8, 19], 'attempts': [1, 3, 2, 3, 2, 3, 1, 1, 2, 1], 'qualify': ['yes', 'no', 'yes', 'no', 'no', 'yes', 'yes', 'no', 'no', 'yes']}\n",
        "df = pd.DataFrame(exam_data, index=['a', 'b', 'c', 'd', 'e', 'f', 'g', 'h', 'i', 'j'])\n",
        "print(df[['name','score']])"
      ],
      "metadata": {
        "colab": {
          "base_uri": "https://localhost:8080/"
        },
        "id": "YMvhbH6mS9GZ",
        "outputId": "06d3e434-f438-45fa-9d15-ef3c61c99ebb"
      },
      "execution_count": 3,
      "outputs": [
        {
          "output_type": "stream",
          "name": "stdout",
          "text": [
            "        name  score\n",
            "a  Anastasia   12.5\n",
            "b       Dima    9.0\n",
            "c  Katherine   16.5\n",
            "d      James   54.0\n",
            "e      Emily    9.0\n",
            "f    Michael   20.0\n",
            "g    Matthew   14.5\n",
            "h      Laura   65.0\n",
            "i      Kevin    8.0\n",
            "j      Jonas   19.0\n"
          ]
        }
      ]
    },
    {
      "cell_type": "markdown",
      "source": [
        "**Qestion 05:- Write a Pandas program to select the rows where the number of attempts in the examination is greater than 2.**\n",
        "\n",
        "Sample Python dictionary data and list labels:\n",
        "\n",
        "data = {'name': ['Anastasia', 'Dima', 'Katherine', 'James', 'Emily','Michael', 'Matthew', 'Laura', 'Kevin', 'Jonas'], 'score': [12.5, 9, 16.5, np.nan, 9, 20, 14.5, np.nan, 8, 19], 'attempts': [1, 3, 2, 3, 2, 3, 1, 1, 2, 1], 'qualify': ['yes', 'no', 'yes', 'no', 'no', 'yes', 'yes', 'no', 'no', 'yes']} labels = ['a', 'b', 'c', 'd', 'e', 'f', 'g', 'h', 'i', 'j']"
      ],
      "metadata": {
        "id": "qk-dRd2MTPvy"
      }
    },
    {
      "cell_type": "code",
      "source": [
        "import pandas as pd\n",
        "exam_data = {'name': ['Anastasia', 'Dima', 'Katherine', 'James', 'Emily', 'Michael', 'Matthew', 'Laura', 'Kevin', 'Jonas'], 'score': [12.5, 9, 16.5, 54, 9, 20, 14.5, 65, 8, 19], 'attempts': [1, 3, 2, 3, 2, 3, 1, 1, 2, 1], 'qualify': ['yes', 'no', 'yes', 'no', 'no', 'yes', 'yes', 'no', 'no', 'yes']}\n",
        "df = pd.DataFrame(exam_data, index=['a', 'b', 'c', 'd', 'e', 'f', 'g', 'h', 'i', 'j'])\n",
        "print(df[df['attempts']>2])"
      ],
      "metadata": {
        "colab": {
          "base_uri": "https://localhost:8080/"
        },
        "id": "CFYdE4umTd2U",
        "outputId": "2606bb59-eb74-498f-ddd3-8957ec12d0e0"
      },
      "execution_count": 5,
      "outputs": [
        {
          "output_type": "stream",
          "name": "stdout",
          "text": [
            "      name  score  attempts qualify\n",
            "b     Dima    9.0         3      no\n",
            "d    James   54.0         3      no\n",
            "f  Michael   20.0         3     yes\n"
          ]
        }
      ]
    },
    {
      "cell_type": "markdown",
      "source": [
        "**Question 06:- Write a Pandas program to select the rows where the score is missing, i.e. is NaN.**\n",
        "\n",
        "Sample Python dictionary data and list labels:\n",
        "\n",
        "data = {'name': ['Anastasia', 'Dima', 'Katherine', 'James', 'Emily','Michael', 'Matthew', 'Laura', 'Kevin', 'Jonas'], 'score': [12.5, 9, 16.5, np.nan, 9, 20, 14.5, np.nan, 8, 19], 'attempts': [1, 3, 2, 3, 2, 3, 1, 1, 2, 1], 'qualify': ['yes', 'no', 'yes', 'no', 'no', 'yes', 'yes', 'no', 'no', 'yes']} labels = ['a', 'b', 'c', 'd', 'e', 'f', 'g', 'h', 'i', 'j']"
      ],
      "metadata": {
        "id": "M1PxH15NUeDP"
      }
    },
    {
      "cell_type": "code",
      "source": [
        "import pandas as pd\n",
        "import numpy as np\n",
        "exam_data = {'name': ['Anastasia', 'Dima', 'Katherine', 'James', 'Emily', 'Michael', 'Matthew', 'Laura', 'Kevin', 'Jonas'], 'score': [12.5, 9, 16.5, np.nan, 9, 20, 14.5, np.nan, 8, 19], 'attempts': [1, 3, 2, 3, 2, 3, 1, 1, 2, 1], 'qualify': ['yes', 'no', 'yes', 'no', 'no', 'yes', 'yes', 'no', 'no', 'yes']}\n",
        "df = pd.DataFrame(exam_data, index=['a', 'b', 'c', 'd', 'e', 'f', 'g', 'h', 'i', 'j'])\n",
        "print(df[df['score'].isnull()])\n"
      ],
      "metadata": {
        "colab": {
          "base_uri": "https://localhost:8080/"
        },
        "id": "7-VJZYmKUlW_",
        "outputId": "a5eeac0d-e84c-4495-c6e9-fc8917a29e13"
      },
      "execution_count": 12,
      "outputs": [
        {
          "output_type": "stream",
          "name": "stdout",
          "text": [
            "    name  score  attempts qualify\n",
            "d  James    NaN         3      no\n",
            "h  Laura    NaN         1      no\n"
          ]
        }
      ]
    },
    {
      "cell_type": "markdown",
      "source": [
        "**Question 07:- Write a Pandas program to calculate the mean of all students&#39; scores. Data is stored in a dataframe.**\n",
        "\n",
        "Sample Python dictionary data and list labels:\n",
        "\n",
        "data = {'name': ['Anastasia', 'Dima', 'Katherine', 'James', 'Emily','Michael', 'Matthew', 'Laura', 'Kevin', 'Jonas'], 'score': [12.5, 9, 16.5, np.nan, 9, 20, 14.5, np.nan, 8, 19], 'attempts': [1, 3, 2, 3, 2, 3, 1, 1, 2, 1], 'qualify': ['yes', 'no', 'yes', 'no', 'no', 'yes', 'yes', 'no', 'no', 'yes']} labels = ['a', 'b', 'c', 'd', 'e', 'f', 'g', 'h', 'i', 'j']"
      ],
      "metadata": {
        "id": "bYRmuHRLXrfi"
      }
    },
    {
      "cell_type": "code",
      "source": [
        "import pandas as pd\n",
        "import numpy as np\n",
        "exam_data = {'name': ['Anastasia', 'Dima', 'Katherine', 'James', 'Emily', 'Michael', 'Matthew', 'Laura', 'Kevin', 'Jonas'], 'score': [12.5, 9, 16.5, np.nan, 9, 20, 14.5, np.nan, 8, 19], 'attempts': [1, 3, 2, 3, 2, 3, 1, 1, 2, 1], 'qualify': ['yes', 'no', 'yes', 'no', 'no', 'yes', 'yes', 'no', 'no', 'yes']}\n",
        "df = pd.DataFrame(exam_data, index=['a', 'b', 'c', 'd', 'e', 'f', 'g', 'h', 'i', 'j'])\n",
        "print('Mean score for each different student in data frame: ')\n",
        "print(df['score'].mean())"
      ],
      "metadata": {
        "colab": {
          "base_uri": "https://localhost:8080/"
        },
        "id": "25O_G0vUX4Z8",
        "outputId": "c23ad019-7dc9-4cf2-98b9-03b2c75c7f8f"
      },
      "execution_count": 16,
      "outputs": [
        {
          "output_type": "stream",
          "name": "stdout",
          "text": [
            "Mean score for each different student in data frame: \n",
            "13.5625\n"
          ]
        }
      ]
    },
    {
      "cell_type": "markdown",
      "source": [
        "**Question 08:- Write a Pandas program to join the two given dataframes along rows and assign all data.**\n",
        "\n",
        "**Test Data:**\n",
        "\n",
        "student_data1={'student_id':['s1','s2','s3','s4','s5'], 'name':['Danniella Fenton','Ryder Storey','Bryce Jensen','Ed Bernal','Kwame Morin'], 'marks':[200,210,190,222,199]}\n",
        "\n",
        "student_data2={'student_id':['s4','s5','s6','s7','s8'], 'name':['Scarlette Fisher','Carla Williamson','Dante Morse','Kaiser William','Madeeha Preston'], 'marks':[210,200,198,219,201]}"
      ],
      "metadata": {
        "id": "RhntI2RKHDoN"
      }
    },
    {
      "cell_type": "markdown",
      "source": [
        "**Method 1**"
      ],
      "metadata": {
        "id": "XmJGzzidePIy"
      }
    },
    {
      "cell_type": "code",
      "source": [
        "import pandas as pd\n",
        "student_data1={'student_id':['s1','s2','s3','s4','s5'], 'name':['Danniella Fenton','Ryder Storey','Bryce Jensen','Ed Bernal','Kwame Morin'], 'marks':[200,210,190,222,199]}\n",
        "\n",
        "student_data2={'student_id':['s4','s5','s6','s7','s8'], 'Name':['Scarlette Fisher','Carla Williamson','Dante Morse','Kaiser William','Madeeha Preston'], 'marks':[210,200,198,219,201]}\n",
        "\n",
        "df1=pd.DataFrame(student_data1)\n",
        "df2=pd.DataFrame(student_data2)\n",
        "print(\"Student Data 1: \")\n",
        "print(df1,end='\\n\\n')\n",
        "print(\"Student Data 2: \")\n",
        "print(df2,end='\\n\\n')\n",
        "\n",
        "frames = [df2, df1]\n",
        "\n",
        "result = pd.concat(frames,ignore_index=True)\n",
        "print(\"Resultant joint both DataFrames: \")\n",
        "print(result)"
      ],
      "metadata": {
        "colab": {
          "base_uri": "https://localhost:8080/"
        },
        "id": "0btfboDgJNuR",
        "outputId": "50016199-250d-4770-c347-5785ca6e282d"
      },
      "execution_count": 25,
      "outputs": [
        {
          "output_type": "stream",
          "name": "stdout",
          "text": [
            "Student Data 1: \n",
            "  student_id              name  marks\n",
            "0         s1  Danniella Fenton    200\n",
            "1         s2      Ryder Storey    210\n",
            "2         s3      Bryce Jensen    190\n",
            "3         s4         Ed Bernal    222\n",
            "4         s5       Kwame Morin    199\n",
            "\n",
            "Student Data 2: \n",
            "  student_id              Name  marks\n",
            "0         s4  Scarlette Fisher    210\n",
            "1         s5  Carla Williamson    200\n",
            "2         s6       Dante Morse    198\n",
            "3         s7    Kaiser William    219\n",
            "4         s8   Madeeha Preston    201\n",
            "\n",
            "Resultant joint both DataFrames: \n",
            "  student_id              Name  marks              name\n",
            "0         s4  Scarlette Fisher    210               NaN\n",
            "1         s5  Carla Williamson    200               NaN\n",
            "2         s6       Dante Morse    198               NaN\n",
            "3         s7    Kaiser William    219               NaN\n",
            "4         s8   Madeeha Preston    201               NaN\n",
            "5         s1               NaN    200  Danniella Fenton\n",
            "6         s2               NaN    210      Ryder Storey\n",
            "7         s3               NaN    190      Bryce Jensen\n",
            "8         s4               NaN    222         Ed Bernal\n",
            "9         s5               NaN    199       Kwame Morin\n"
          ]
        }
      ]
    },
    {
      "cell_type": "markdown",
      "source": [
        "**Method 2**"
      ],
      "metadata": {
        "id": "vBXgkVzLeTXz"
      }
    },
    {
      "cell_type": "code",
      "source": [
        "import pandas as pd\n",
        "student_data1={'student_id':['s1','s2','s3','s4','s5'], 'name':['Danniella Fenton','Ryder Storey','Bryce Jensen','Ed Bernal','Kwame Morin'], 'marks':[200,210,190,222,199]}\n",
        "\n",
        "student_data2={'student_id':['s4','s5','s6','s7','s8'], 'Name':['Scarlette Fisher','Carla Williamson','Dante Morse','Kaiser William','Madeeha Preston'], 'marks':[210,200,198,219,201]}\n",
        "\n",
        "df1=pd.DataFrame(student_data1)\n",
        "df2=pd.DataFrame(student_data2)\n",
        "print(\"Student Data 1: \")\n",
        "print(df1,end='\\n\\n')\n",
        "print(\"Student Data 2: \")\n",
        "print(df2,end='\\n\\n')\n",
        "\n",
        "result = df1.append(df2)\n",
        "print(\"Resultant joint both DataFrames: \")\n",
        "print(result)"
      ],
      "metadata": {
        "colab": {
          "base_uri": "https://localhost:8080/"
        },
        "id": "yWYMIiy6eWmw",
        "outputId": "be07ec02-c858-4fea-ec91-0ca5d843a57f"
      },
      "execution_count": 35,
      "outputs": [
        {
          "output_type": "stream",
          "name": "stdout",
          "text": [
            "Student Data 1: \n",
            "  student_id              name  marks\n",
            "0         s1  Danniella Fenton    200\n",
            "1         s2      Ryder Storey    210\n",
            "2         s3      Bryce Jensen    190\n",
            "3         s4         Ed Bernal    222\n",
            "4         s5       Kwame Morin    199\n",
            "\n",
            "Student Data 2: \n",
            "  student_id              Name  marks\n",
            "0         s4  Scarlette Fisher    210\n",
            "1         s5  Carla Williamson    200\n",
            "2         s6       Dante Morse    198\n",
            "3         s7    Kaiser William    219\n",
            "4         s8   Madeeha Preston    201\n",
            "\n",
            "Resultant joint both DataFrames: \n",
            "  student_id              name  marks              Name\n",
            "0         s1  Danniella Fenton    200               NaN\n",
            "1         s2      Ryder Storey    210               NaN\n",
            "2         s3      Bryce Jensen    190               NaN\n",
            "3         s4         Ed Bernal    222               NaN\n",
            "4         s5       Kwame Morin    199               NaN\n",
            "0         s4               NaN    210  Scarlette Fisher\n",
            "1         s5               NaN    200  Carla Williamson\n",
            "2         s6               NaN    198       Dante Morse\n",
            "3         s7               NaN    219    Kaiser William\n",
            "4         s8               NaN    201   Madeeha Preston\n"
          ]
        },
        {
          "output_type": "stream",
          "name": "stderr",
          "text": [
            "<ipython-input-35-db1c092dbf01>:13: FutureWarning: The frame.append method is deprecated and will be removed from pandas in a future version. Use pandas.concat instead.\n",
            "  result = df1.append(df2)\n"
          ]
        }
      ]
    },
    {
      "cell_type": "markdown",
      "source": [
        "Method 2 Generate warning says use method 1, may be it is possible that method 2 will be removed from pandas in future version."
      ],
      "metadata": {
        "id": "Iyp0CUa-epYN"
      }
    },
    {
      "cell_type": "markdown",
      "source": [
        "**Question 09:- Write a Pandas program to join the two given dataframes along columns and assign all data.**\n",
        "\n",
        "**Test Data:**\n",
        "\n",
        "student_data1={'student_id':['s1','s2','s3','s4','s5'], 'name':['Danniella Fenton','Ryder Storey','Bryce Jensen','Ed Bernal','Kwame Morin'], 'marks':[200,210,190,222,199]}\n",
        "\n",
        "student_data2={'student_id':['s4','s5','s6','s7','s8'], 'name':['Scarlette Fisher','Carla Williamson','Dante Morse','Kaiser William','Madeeha Preston'], 'marks':[210,200,198,219,201]}"
      ],
      "metadata": {
        "id": "3QmQsMjMZC0B"
      }
    },
    {
      "cell_type": "code",
      "source": [
        "import pandas as pd\n",
        "student_data1={'student_id':['s1','s2','s3','s4','s5'], 'name':['Danniella Fenton','Ryder Storey','Bryce Jensen','Ed Bernal','Kwame Morin'], 'marks':[200,210,190,222,199]}\n",
        "\n",
        "student_data2={'student_id':['s4','s5','s6','s7','s8'], 'name':['Scarlette Fisher','Carla Williamson','Dante Morse','Kaiser William','Madeeha Preston'], 'marks':[210,200,198,219,201]}\n",
        "\n",
        "df1=pd.DataFrame(student_data1)\n",
        "df2=pd.DataFrame(student_data2)\n",
        "print(\"Student Data 1: \")\n",
        "print(df1,end='\\n\\n')\n",
        "print(\"Student Data 2: \")\n",
        "print(df2,end='\\n\\n')\n",
        "\n",
        "frames = [df1, df2]\n",
        "\n",
        "result = pd.concat(frames,axis=1,join='inner',ignore_index=False)\n",
        "print(\"Resultant joint both DataFrames: \")\n",
        "print(result)"
      ],
      "metadata": {
        "colab": {
          "base_uri": "https://localhost:8080/"
        },
        "id": "5UMWAOrSQtKX",
        "outputId": "afe15e4a-40ed-4819-fc5d-a0c9f3ceb330"
      },
      "execution_count": 28,
      "outputs": [
        {
          "output_type": "stream",
          "name": "stdout",
          "text": [
            "Student Data 1: \n",
            "  student_id              name  marks\n",
            "0         s1  Danniella Fenton    200\n",
            "1         s2      Ryder Storey    210\n",
            "2         s3      Bryce Jensen    190\n",
            "3         s4         Ed Bernal    222\n",
            "4         s5       Kwame Morin    199\n",
            "\n",
            "Student Data 2: \n",
            "  student_id              name  marks\n",
            "0         s4  Scarlette Fisher    210\n",
            "1         s5  Carla Williamson    200\n",
            "2         s6       Dante Morse    198\n",
            "3         s7    Kaiser William    219\n",
            "4         s8   Madeeha Preston    201\n",
            "\n",
            "Resultant joint both DataFrames: \n",
            "    0                 1    2   3                 4    5\n",
            "0  s1  Danniella Fenton  200  s4  Scarlette Fisher  210\n",
            "1  s2      Ryder Storey  210  s5  Carla Williamson  200\n",
            "2  s3      Bryce Jensen  190  s6       Dante Morse  198\n",
            "3  s4         Ed Bernal  222  s7    Kaiser William  219\n",
            "4  s5       Kwame Morin  199  s8   Madeeha Preston  201\n"
          ]
        }
      ]
    },
    {
      "cell_type": "markdown",
      "source": [
        "About **pd.concat()**\n",
        "\n",
        "Refrence Link: https://pandas.pydata.org/pandas-docs/stable/reference/api/pandas.concat.html\n",
        "\n",
        "attributes:\n",
        "\n",
        "1. List of DataFrames which is concatenated. (Order of list is matter, first element of list comes first)\n",
        "\n",
        "2. **axis**: (by default its value is '0')\n",
        "\n",
        "* if '1' concatenate along columns\n",
        "\n",
        "* if '0' concatnate along rows\n",
        "\n",
        "3. **ignore_index:** It is boolean **By default** its value is **False**\n",
        "\n",
        "its role depend on the **axis** attribute\n",
        "\n",
        "* if **axis=0** than forwarded index means number of rows comes in a sequence\n",
        "\n",
        "* if **axis=1** than it forget the name of columns and gives a sequence to them\n",
        "\n",
        "One of the interesting thing of this function is\n",
        "\n",
        "* if **axis=0** in this case DataFrames is concatnate along rows means data of second DataFrame is comes below the other. if the the colummn name is same than there is no problem, if any of one column name is different than it is treated as different column and in the other DataFrame the value of that column is **NaN** otherwise data is comes after the other, and the column name remains unchanged.\n",
        "\n",
        "* if **axis=1** in this case DataFrames is concatenate along columns means data of second DataFrame is comes in side the other means number of columns is increased weather the column name is same or different does't matter."
      ],
      "metadata": {
        "id": "YBnPU0OPRTzb"
      }
    },
    {
      "cell_type": "markdown",
      "source": [
        "**Question 10:-Write a Pandas program to append rows to an existing DataFrame and display the combined data.**\n",
        "\n",
        "**Test Data:**\n",
        "\n",
        "student_data1={'student_id':['s1','s2','s3','s4','s5'], 'name':['Danniella Fenton','Ryder Storey','Bryce Jensen','Ed Bernal','Kwame Morin'], 'marks':[200,210,190,222,199]}\n",
        "\n",
        "New Row(s)\n",
        "\n",
        "student_data={'student_id' : 's6', 'name' : 'Scralette Fisher', 'marks' : 205}"
      ],
      "metadata": {
        "id": "ELx7npbuZZnq"
      }
    },
    {
      "cell_type": "markdown",
      "source": [
        "**Method 1**"
      ],
      "metadata": {
        "id": "CzF_3qkLfZ7q"
      }
    },
    {
      "cell_type": "code",
      "source": [
        "import pandas as pd\n",
        "student_data1={'student_id':['s1','s2','s3','s4','s5'], 'name':['Danniella Fenton','Ryder Storey','Bryce Jensen','Ed Bernal','Kwame Morin'], 'marks':[200,210,190,222,199]}\n",
        "\n",
        "student_data={'student_id' : ['s6'], 'name' : ['Scralette Fisher'], 'marks' : [205]}\n",
        "df1=pd.DataFrame(student_data1)\n",
        "df2=pd.DataFrame(student_data)\n",
        "print(\"Student Data 1: \")\n",
        "print(df1,end='\\n\\n')\n",
        "print(\"Student Data 2: \")\n",
        "print(df2,end='\\n\\n')\n",
        "\n",
        "frames = [df2, df1]\n",
        "\n",
        "result = pd.concat(frames,ignore_index=True)\n",
        "print(\"Resultant joint both DataFrames: \")\n",
        "print(result)"
      ],
      "metadata": {
        "colab": {
          "base_uri": "https://localhost:8080/"
        },
        "id": "YZm9Q9sja5Qq",
        "outputId": "089d1329-82e0-49e8-b38f-20b6f0a7e47c"
      },
      "execution_count": 34,
      "outputs": [
        {
          "output_type": "stream",
          "name": "stdout",
          "text": [
            "Student Data 1: \n",
            "  student_id              name  marks\n",
            "0         s1  Danniella Fenton    200\n",
            "1         s2      Ryder Storey    210\n",
            "2         s3      Bryce Jensen    190\n",
            "3         s4         Ed Bernal    222\n",
            "4         s5       Kwame Morin    199\n",
            "\n",
            "Student Data 2: \n",
            "  student_id              name  marks\n",
            "0         s6  Scralette Fisher    205\n",
            "\n",
            "Resultant joint both DataFrames: \n",
            "  student_id              name  marks\n",
            "0         s6  Scralette Fisher    205\n",
            "1         s1  Danniella Fenton    200\n",
            "2         s2      Ryder Storey    210\n",
            "3         s3      Bryce Jensen    190\n",
            "4         s4         Ed Bernal    222\n",
            "5         s5       Kwame Morin    199\n"
          ]
        }
      ]
    },
    {
      "cell_type": "markdown",
      "source": [
        "**Method 2**"
      ],
      "metadata": {
        "id": "oIY_CwwafdEZ"
      }
    },
    {
      "cell_type": "code",
      "source": [
        "import pandas as pd\n",
        "student_data1={'student_id':['s1','s2','s3','s4','s5'], 'name':['Danniella Fenton','Ryder Storey','Bryce Jensen','Ed Bernal','Kwame Morin'], 'marks':[200,210,190,222,199]}\n",
        "\n",
        "student_data={'student_id' : ['s6'], 'name' : ['Scralette Fisher'], 'marks' : [205]}\n",
        "df=pd.DataFrame(student_data1)\n",
        "\n",
        "print(\"Student Data 1: \")\n",
        "print(df,end='\\n\\n')\n",
        "\n",
        "student_data={'student_id' : 's6', 'name' : 'Scralette Fisher', 'marks' : 205}\n",
        "\n",
        "result = df.append(student_data,ignore_index=True)\n",
        "print(result)"
      ],
      "metadata": {
        "colab": {
          "base_uri": "https://localhost:8080/"
        },
        "id": "wYCRrfvjff49",
        "outputId": "4240fb6e-b294-4252-ff49-bbb0ebbb458e"
      },
      "execution_count": 36,
      "outputs": [
        {
          "output_type": "stream",
          "name": "stdout",
          "text": [
            "Student Data 1: \n",
            "  student_id              name  marks\n",
            "0         s1  Danniella Fenton    200\n",
            "1         s2      Ryder Storey    210\n",
            "2         s3      Bryce Jensen    190\n",
            "3         s4         Ed Bernal    222\n",
            "4         s5       Kwame Morin    199\n",
            "\n",
            "  student_id              name  marks\n",
            "0         s1  Danniella Fenton    200\n",
            "1         s2      Ryder Storey    210\n",
            "2         s3      Bryce Jensen    190\n",
            "3         s4         Ed Bernal    222\n",
            "4         s5       Kwame Morin    199\n",
            "5         s6  Scralette Fisher    205\n"
          ]
        },
        {
          "output_type": "stream",
          "name": "stderr",
          "text": [
            "<ipython-input-36-baf3eb9f532f>:12: FutureWarning: The frame.append method is deprecated and will be removed from pandas in a future version. Use pandas.concat instead.\n",
            "  result = df.append(student_data,ignore_index=True)\n"
          ]
        }
      ]
    },
    {
      "cell_type": "markdown",
      "source": [
        "Method 2 Generate warning says use method 1, may be it is possible that method 2 will be removed from pandas in future version."
      ],
      "metadata": {
        "id": "akIaxN7ZgNXU"
      }
    },
    {
      "cell_type": "markdown",
      "source": [
        "**Question 11:- Write a Pandas program to display the dimensions of the World alcohol consumption dataset.**\n",
        "\n",
        "**Test Data:**\n",
        "\n",
        "test_data = {'year':[1986,1986,1985,1986,1987], 'WHO region':['Western Pacific','Americas','Africa','Americas','Americas'], 'Country':['Viet Nam','Uruguay',\"Cte d'Ivoier\",'Colombia','Saint Kitts and Nevis'], 'Types':['Wine','Other','Wine','Beer','Beer'], 'Display_Values':[0.00,0.50,1.62,4.27,1.98]}\n"
      ],
      "metadata": {
        "id": "OpEMe83qgOWA"
      }
    },
    {
      "cell_type": "code",
      "source": [
        "import pandas as pd\n",
        "\n",
        "test_data = {'year':[1986,1986,1985,1986,1987], 'WHO region':['Western Pacific','Americas','Africa','Americas','Americas'], 'Country':['Viet Nam','Uruguay',\"Cte d'Ivoier\",'Colombia','Saint Kitts and Nevis'], 'Types':['Wine','Other','Wine','Beer','Beer'], 'Display_Values':[0.00,0.50,1.62,4.27,1.98]}\n",
        "\n",
        "df = pd.DataFrame(test_data)\n",
        "print(df,end='\\n\\n')\n",
        "\n",
        "print(\"Dimension of DataFrame: \", df.ndim)"
      ],
      "metadata": {
        "colab": {
          "base_uri": "https://localhost:8080/"
        },
        "id": "Vb6SUKophYTD",
        "outputId": "2a08081c-f6f9-4fc2-b9f1-40d171803e76"
      },
      "execution_count": 39,
      "outputs": [
        {
          "output_type": "stream",
          "name": "stdout",
          "text": [
            "   year       WHO region                Country  Types  Display_Values\n",
            "0  1986  Western Pacific               Viet Nam   Wine            0.00\n",
            "1  1986         Americas                Uruguay  Other            0.50\n",
            "2  1985           Africa           Cte d'Ivoier   Wine            1.62\n",
            "3  1986         Americas               Colombia   Beer            4.27\n",
            "4  1987         Americas  Saint Kitts and Nevis   Beer            1.98\n",
            "\n",
            "Dimension of DataFrame:  2\n"
          ]
        }
      ]
    },
    {
      "cell_type": "markdown",
      "source": [
        "About **pandas.DataFrame.ndim**\n",
        "\n",
        "Refrence Link: https://pandas.pydata.org/pandas-docs/stable/reference/api/pandas.DataFrame.ndim.html\n",
        "\n",
        "This function Return an int representing the number of axes / array dimensions.\n",
        "\n",
        "Return 1 if Series. Otherwise return 2 if DataFrame."
      ],
      "metadata": {
        "id": "TO2sQr30juv5"
      }
    },
    {
      "cell_type": "markdown",
      "source": [
        "**Question 12:- Write a Pandas program to display the shape of the World alcohol consumption dataset. Also extract the column names from the dataset.**\n",
        "\n",
        "**Test Data:**\n",
        "\n",
        "test_data = {'year':[1986,1986,1985,1986,1987], 'WHO region':['Western Pacific','Americas','Africa','Americas','Americas'], 'Country':['Viet Nam','Uruguay',\"Cte d'Ivoier\",'Colombia','Saint Kitts and Nevis'], 'Types':['Wine','Other','Wine','Beer','Beer'], 'Display_Values':[0.00,0.50,1.62,4.27,1.98]}\n"
      ],
      "metadata": {
        "id": "w23fdp-KkOp6"
      }
    },
    {
      "cell_type": "code",
      "source": [
        "import pandas as pd\n",
        "\n",
        "test_data = {'year':[1986,1986,1985,1986,1987], 'WHO region':['Western Pacific','Americas','Africa','Americas','Americas'], 'Country':['Viet Nam','Uruguay',\"Cte d'Ivoier\",'Colombia','Saint Kitts and Nevis'], 'Types':['Wine','Other','Wine','Beer','Beer'], 'Display_Values':[0.00,0.50,1.62,4.27,1.98]}\n",
        "\n",
        "df = pd.DataFrame(test_data)\n",
        "print(df,end='\\n\\n')\n",
        "\n",
        "print(\"Shape of DataFrame: \",df.shape)"
      ],
      "metadata": {
        "colab": {
          "base_uri": "https://localhost:8080/"
        },
        "id": "lMGjubxTkdr3",
        "outputId": "fcacb939-48ae-430a-9703-1b17b8554a08"
      },
      "execution_count": 40,
      "outputs": [
        {
          "output_type": "stream",
          "name": "stdout",
          "text": [
            "   year       WHO region                Country  Types  Display_Values\n",
            "0  1986  Western Pacific               Viet Nam   Wine            0.00\n",
            "1  1986         Americas                Uruguay  Other            0.50\n",
            "2  1985           Africa           Cte d'Ivoier   Wine            1.62\n",
            "3  1986         Americas               Colombia   Beer            4.27\n",
            "4  1987         Americas  Saint Kitts and Nevis   Beer            1.98\n",
            "\n",
            "Shape of DataFrame:  (5, 5)\n"
          ]
        }
      ]
    },
    {
      "cell_type": "markdown",
      "source": [
        "About **Pandas.DataFrame.shape**\n",
        "\n",
        "Reference Link: https://pandas.pydata.org/pandas-docs/stable/reference/api/pandas.DataFrame.shape.html\n",
        "\n",
        "This function Return a tuple representing the dimensionality of the DataFrame."
      ],
      "metadata": {
        "id": "g-dnoB51km8R"
      }
    },
    {
      "cell_type": "markdown",
      "source": [
        "**Question 13:- Write a Pandas program to display the size of the World alcohol consumption dataset.**\n",
        "\n",
        "**Test Data:**\n",
        "\n",
        "test_data = {'year':[1986,1986,1985,1986,1987], 'WHO region':['Western Pacific','Americas','Africa','Americas','Americas'], 'Country':['Viet Nam','Uruguay',\"Cte d'Ivoier\",'Colombia','Saint Kitts and Nevis'], 'Types':['Wine','Other','Wine','Beer','Beer'], 'Display_Values':[0.00,0.50,1.62,4.27,1.98]}\n"
      ],
      "metadata": {
        "id": "CYpBcxJ1lHpC"
      }
    },
    {
      "cell_type": "code",
      "source": [
        "import pandas as pd\n",
        "\n",
        "test_data = {'year':[1986,1986,1985,1986,1987], 'WHO region':['Western Pacific','Americas','Africa','Americas','Americas'], 'Country':['Viet Nam','Uruguay',\"Cte d'Ivoier\",'Colombia','Saint Kitts and Nevis'], 'Types':['Wine','Other','Wine','Beer','Beer'], 'Display_Values':[0.00,0.50,1.62,4.27,1.98]}\n",
        "\n",
        "df = pd.DataFrame(test_data)\n",
        "print(df,end='\\n\\n')\n",
        "\n",
        "print(\"Size of DataFrame: \",df.size)"
      ],
      "metadata": {
        "colab": {
          "base_uri": "https://localhost:8080/"
        },
        "id": "I7BMCUeVlOhR",
        "outputId": "0973f755-bc3e-430a-f329-47ad789bdd9b"
      },
      "execution_count": 41,
      "outputs": [
        {
          "output_type": "stream",
          "name": "stdout",
          "text": [
            "   year       WHO region                Country  Types  Display_Values\n",
            "0  1986  Western Pacific               Viet Nam   Wine            0.00\n",
            "1  1986         Americas                Uruguay  Other            0.50\n",
            "2  1985           Africa           Cte d'Ivoier   Wine            1.62\n",
            "3  1986         Americas               Colombia   Beer            4.27\n",
            "4  1987         Americas  Saint Kitts and Nevis   Beer            1.98\n",
            "\n",
            "Size of DataFrame:  25\n"
          ]
        }
      ]
    },
    {
      "cell_type": "markdown",
      "source": [
        "About **pandas.DataFrame.size**\n",
        "\n",
        "Refrence Link: https://pandas.pydata.org/pandas-docs/stable/reference/api/pandas.DataFrame.size.html\n",
        "\n",
        "This function Return an int representing the number of elements in this object.\n",
        "\n",
        "Return the number of rows if Series. Otherwise return the number of rows times number of columns if DataFrame."
      ],
      "metadata": {
        "id": "rfBbtCZQlY3o"
      }
    },
    {
      "cell_type": "markdown",
      "source": [
        "**Question 14:- Write a Pandas program to extract the column names from the dataset.**\n",
        "\n",
        "**Test Data:**\n",
        "\n",
        "test_data = {'year':[1986,1986,1985,1986,1987], 'WHO region':['Western Pacific','Americas','Africa','Americas','Americas'], 'Country':['Viet Nam','Uruguay',\"Cte d'Ivoier\",'Colombia','Saint Kitts and Nevis'], 'Types':['Wine','Other','Wine','Beer','Beer'], 'Display_Values':[0.00,0.50,1.62,4.27,1.98]}\n"
      ],
      "metadata": {
        "id": "_ouNxPXtmQ3C"
      }
    },
    {
      "cell_type": "code",
      "source": [
        "import pandas as pd\n",
        "\n",
        "test_data = {'year':[1986,1986,1985,1986,1987], 'WHO region':['Western Pacific','Americas','Africa','Americas','Americas'], 'Country':['Viet Nam','Uruguay',\"Cte d'Ivoier\",'Colombia','Saint Kitts and Nevis'], 'Types':['Wine','Other','Wine','Beer','Beer'], 'Display_Values':[0.00,0.50,1.62,4.27,1.98]}\n",
        "\n",
        "df = pd.DataFrame(test_data)\n",
        "print(df,end='\\n\\n')\n",
        "print(\"Method 1: \")\n",
        "print(\"Name of columns: \")\n",
        "print(list(df.columns))\n",
        "print()\n",
        "print(\"Method 2: \")\n",
        "print(\"Name of columns: \")\n",
        "print(df.keys())\n",
        "print()\n",
        "print(\"Method 3: \")\n",
        "print(\"Name of columns: \")\n",
        "print(df.columns.values)\n",
        "print()\n",
        "print(\"Method 4: \")\n",
        "print(\"Name of columns: \")\n",
        "print(df.columns.values.tolist())\n",
        "print()\n",
        "print(\"Method 5: \")\n",
        "print(\"Name of columns: \")\n",
        "print(sorted(df))\n",
        "print()\n",
        "print(\"Method 6: \")\n",
        "print(\"Name of columns: \")\n",
        "for col in df.columns:\n",
        "    print(col)"
      ],
      "metadata": {
        "colab": {
          "base_uri": "https://localhost:8080/"
        },
        "id": "UZ7ZgWJImZ8k",
        "outputId": "5f7275da-915d-496b-a7e9-7fd559e55cbc"
      },
      "execution_count": 60,
      "outputs": [
        {
          "output_type": "stream",
          "name": "stdout",
          "text": [
            "   year       WHO region                Country  Types  Display_Values\n",
            "0  1986  Western Pacific               Viet Nam   Wine            0.00\n",
            "1  1986         Americas                Uruguay  Other            0.50\n",
            "2  1985           Africa           Cte d'Ivoier   Wine            1.62\n",
            "3  1986         Americas               Colombia   Beer            4.27\n",
            "4  1987         Americas  Saint Kitts and Nevis   Beer            1.98\n",
            "\n",
            "Method 1: \n",
            "Name of columns: \n",
            "['year', 'WHO region', 'Country', 'Types', 'Display_Values']\n",
            "\n",
            "Method 2: \n",
            "Name of columns: \n",
            "Index(['year', 'WHO region', 'Country', 'Types', 'Display_Values'], dtype='object')\n",
            "\n",
            "Method 3: \n",
            "Name of columns: \n",
            "['year' 'WHO region' 'Country' 'Types' 'Display_Values']\n",
            "\n",
            "Method 4: \n",
            "Name of columns: \n",
            "['year', 'WHO region', 'Country', 'Types', 'Display_Values']\n",
            "\n",
            "Method 5: \n",
            "Name of columns: \n",
            "['Country', 'Display_Values', 'Types', 'WHO region', 'year']\n",
            "\n",
            "Method 6: \n",
            "Name of columns: \n",
            "year\n",
            "WHO region\n",
            "Country\n",
            "Types\n",
            "Display_Values\n"
          ]
        }
      ]
    },
    {
      "cell_type": "markdown",
      "source": [
        "Reference Link of answer 14 :- https://www.geeksforgeeks.org/how-to-get-column-names-in-pandas-dataframe/"
      ],
      "metadata": {
        "id": "ISOp5-lQqiOj"
      }
    }
  ]
}