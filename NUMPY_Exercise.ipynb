{
  "nbformat": 4,
  "nbformat_minor": 0,
  "metadata": {
    "colab": {
      "provenance": [],
      "authorship_tag": "ABX9TyPzBgTRWfI2R+nl8uQuGEVk",
      "include_colab_link": true
    },
    "kernelspec": {
      "name": "python3",
      "display_name": "Python 3"
    },
    "language_info": {
      "name": "python"
    }
  },
  "cells": [
    {
      "cell_type": "markdown",
      "metadata": {
        "id": "view-in-github",
        "colab_type": "text"
      },
      "source": [
        "<a href=\"https://colab.research.google.com/github/OshankAgrawal/Foundation-of-Data-Science/blob/main/NUMPY_Exercise.ipynb\" target=\"_parent\"><img src=\"https://colab.research.google.com/assets/colab-badge.svg\" alt=\"Open In Colab\"/></a>"
      ]
    },
    {
      "cell_type": "markdown",
      "source": [
        "# Exercise"
      ],
      "metadata": {
        "id": "qqJv-JE0FfBX"
      }
    },
    {
      "cell_type": "markdown",
      "source": [
        "**Question 01:- Write a numpy program to get Numpy version.**"
      ],
      "metadata": {
        "id": "1IB2TjUbMGdz"
      }
    },
    {
      "cell_type": "code",
      "source": [
        "import numpy as np\n",
        "print(np.__version__)"
      ],
      "metadata": {
        "colab": {
          "base_uri": "https://localhost:8080/"
        },
        "id": "KUO6bzXqNbDS",
        "outputId": "e3878889-0e49-473c-c636-f71fef8ca3f9"
      },
      "execution_count": null,
      "outputs": [
        {
          "output_type": "stream",
          "name": "stdout",
          "text": [
            "1.25.2\n"
          ]
        }
      ]
    },
    {
      "cell_type": "markdown",
      "source": [
        "**Question 02:- Write a NumPy program to test whether none of the\n",
        "elements of a given array are zero.**"
      ],
      "metadata": {
        "id": "QUTVoItSOQFn"
      }
    },
    {
      "cell_type": "markdown",
      "source": [
        "Test Case of all()"
      ],
      "metadata": {
        "id": "Nhwx8O5oq-CW"
      }
    },
    {
      "cell_type": "code",
      "source": [
        "import numpy as np\n",
        "df=np.array([[True,True,True,True],[False,True,False,True],[True,True,True,True],[False,True,False,True]])\n",
        "all=np.all(df, axis=-1)\n",
        "print(df)\n",
        "print()\n",
        "print(all)"
      ],
      "metadata": {
        "colab": {
          "base_uri": "https://localhost:8080/"
        },
        "id": "0yR91sMNknCs",
        "outputId": "f70d6a9f-4607-4832-b1c1-df378936efc3"
      },
      "execution_count": 1,
      "outputs": [
        {
          "output_type": "stream",
          "name": "stdout",
          "text": [
            "[[ True  True  True  True]\n",
            " [False  True False  True]\n",
            " [ True  True  True  True]\n",
            " [False  True False  True]]\n",
            "\n",
            "[ True False  True False]\n"
          ]
        }
      ]
    },
    {
      "cell_type": "markdown",
      "source": [
        "Test Case of any()"
      ],
      "metadata": {
        "id": "8HGTtHOkx__H"
      }
    },
    {
      "cell_type": "code",
      "source": [
        "import numpy as np\n",
        "df=np.array([[True,True,True,True],[False,False,False,False],[True,True,True,True],[False,True,False,True]])\n",
        "all=np.any(df, axis=-1)\n",
        "print(df)\n",
        "print()\n",
        "print(all)"
      ],
      "metadata": {
        "colab": {
          "base_uri": "https://localhost:8080/"
        },
        "id": "jbQOTRLnyC-4",
        "outputId": "434d414a-af90-44ea-8bcb-73649fc8363a"
      },
      "execution_count": 2,
      "outputs": [
        {
          "output_type": "stream",
          "name": "stdout",
          "text": [
            "[[ True  True  True  True]\n",
            " [False False False False]\n",
            " [ True  True  True  True]\n",
            " [False  True False  True]]\n",
            "\n",
            "[ True False  True  True]\n"
          ]
        }
      ]
    },
    {
      "cell_type": "markdown",
      "source": [
        "Answer"
      ],
      "metadata": {
        "id": "JccFjc3lrBOI"
      }
    },
    {
      "cell_type": "markdown",
      "source": [
        "**Method 1**"
      ],
      "metadata": {
        "id": "F6JDv_MDx3wN"
      }
    },
    {
      "cell_type": "code",
      "source": [
        "import numpy as np\n",
        "arr = np.array([10,20,30,40,50,0,56,0,23])\n",
        "print(arr)\n",
        "print(\"If zero is present inside the array than 'False' is return otherwise 'True'\")\n",
        "print()\n",
        "print(np.all(arr))"
      ],
      "metadata": {
        "colab": {
          "base_uri": "https://localhost:8080/"
        },
        "id": "upmxC4mhq8DX",
        "outputId": "e2bfab80-75fb-46c6-fb12-a3a98e911054"
      },
      "execution_count": 3,
      "outputs": [
        {
          "output_type": "stream",
          "name": "stdout",
          "text": [
            "[10 20 30 40 50  0 56  0 23]\n",
            "If zero is present inside the array than 'False' is return otherwise 'True'\n",
            "\n",
            "False\n"
          ]
        }
      ]
    },
    {
      "cell_type": "markdown",
      "source": [
        "About **np.all()**\n",
        "\n",
        "Reference Link: https://numpy.org/doc/stable/reference/generated/numpy.all.html\n",
        "\n",
        "axis=0 means vertical checking\n",
        "\n",
        "axis=1 means horizontal checking\n",
        "\n",
        "in 2 dimensional array\n",
        "\n",
        "all() is used to check all the elements"
      ],
      "metadata": {
        "id": "bOdtJPLWsECP"
      }
    },
    {
      "cell_type": "markdown",
      "source": [
        "**Method 2**"
      ],
      "metadata": {
        "id": "bbtfD6VzwGdT"
      }
    },
    {
      "cell_type": "code",
      "source": [
        "import numpy as np\n",
        "arr = np.array([[10,20,30,1],[70,80,90,0]])\n",
        "print(arr)\n",
        "print()\n",
        "print(np.any((arr == 0),axis=0))"
      ],
      "metadata": {
        "colab": {
          "base_uri": "https://localhost:8080/"
        },
        "id": "H7t86Ok4wFor",
        "outputId": "9208789d-c93a-476e-ecd8-78e0867cbc59"
      },
      "execution_count": 4,
      "outputs": [
        {
          "output_type": "stream",
          "name": "stdout",
          "text": [
            "[[10 20 30  1]\n",
            " [70 80 90  0]]\n",
            "\n",
            "[False False False  True]\n"
          ]
        }
      ]
    },
    {
      "cell_type": "markdown",
      "source": [
        "About **np.any()**\n",
        "\n",
        "Reference Link: https://numpy.org/doc/stable/reference/generated/numpy.any.html\n",
        "\n",
        "Axis alignment is same as all()\n",
        "\n",
        "any() is used to check a special number"
      ],
      "metadata": {
        "id": "tUv6TVLqwNtd"
      }
    },
    {
      "cell_type": "markdown",
      "source": [
        "**Question 03:- Write a NumPy program to create an element-wise\n",
        "comparison (greater, greater_equal, less and less_equal) of\n",
        "two given arrays.**"
      ],
      "metadata": {
        "id": "JzLOVk_dt0LR"
      }
    },
    {
      "cell_type": "code",
      "source": [
        "import numpy as np\n",
        "\n",
        "i = np.array([1,2,3,4,5])\n",
        "j = np.array([6,7,8,9,10])\n",
        "\n",
        "print(\"Original arrays\")\n",
        "\n",
        "print(i)\n",
        "print(j,\"\\n\")\n",
        "\n",
        "print(\"Greater\")\n",
        "print(np.greater(i,j),\"\\n\")\n",
        "\n",
        "print(\"Greater and Equal\")\n",
        "print(np.greater_equal(i,j),\"\\n\")\n",
        "\n",
        "print(\"Less\")\n",
        "print(np.less(i,j),\"\\n\")\n",
        "\n",
        "print(\"Less and Equal\")\n",
        "print(np.less_equal(i,j))\n"
      ],
      "metadata": {
        "id": "8BzimnfLt9qf",
        "colab": {
          "base_uri": "https://localhost:8080/"
        },
        "outputId": "4fa84d18-6567-4759-c675-e921681e9d37"
      },
      "execution_count": 5,
      "outputs": [
        {
          "output_type": "stream",
          "name": "stdout",
          "text": [
            "Original arrays\n",
            "[1 2 3 4 5]\n",
            "[ 6  7  8  9 10] \n",
            "\n",
            "Greater\n",
            "[False False False False False] \n",
            "\n",
            "Greater and Equal\n",
            "[False False False False False] \n",
            "\n",
            "Less\n",
            "[ True  True  True  True  True] \n",
            "\n",
            "Less and Equal\n",
            "[ True  True  True  True  True]\n"
          ]
        }
      ]
    },
    {
      "cell_type": "markdown",
      "source": [
        "**Question 04:- Write a NumPy program to create an array with the values 1, 7, 13, 105 and determine the size of the memory occupied by the array.**"
      ],
      "metadata": {
        "id": "ZPCc2_t1ySax"
      }
    },
    {
      "cell_type": "code",
      "source": [
        "import numpy as np\n",
        "arr = np.array([1,7,13,105])\n",
        "print(\"Our array is \",arr)\n",
        "print(\"Size of memory occupied by the said array: \",(arr.size*arr.itemsize),\"bytes\")"
      ],
      "metadata": {
        "id": "RxgR67AEylnM",
        "colab": {
          "base_uri": "https://localhost:8080/"
        },
        "outputId": "989ebf03-99d7-4021-9c55-fe182a6db731"
      },
      "execution_count": 6,
      "outputs": [
        {
          "output_type": "stream",
          "name": "stdout",
          "text": [
            "Our array is  [  1   7  13 105]\n",
            "Size of memory occupied by the said array:  32 bytes\n"
          ]
        }
      ]
    },
    {
      "cell_type": "markdown",
      "source": [
        "**Question 05:- Write a NumPy program to create an array of integers\n",
        "from 30 to 70.**"
      ],
      "metadata": {
        "id": "w9kn0svn0Z1x"
      }
    },
    {
      "cell_type": "markdown",
      "source": [
        "Answer"
      ],
      "metadata": {
        "id": "Ae3PMycb0gLG"
      }
    },
    {
      "cell_type": "code",
      "source": [
        "import numpy as np\n",
        "arr = np.arange(30,71)\n",
        "print(arr)"
      ],
      "metadata": {
        "colab": {
          "base_uri": "https://localhost:8080/"
        },
        "id": "91Rp55I-0ekK",
        "outputId": "4ca6d7ac-7287-4bf7-8fe1-5eb97b153b58"
      },
      "execution_count": 7,
      "outputs": [
        {
          "output_type": "stream",
          "name": "stdout",
          "text": [
            "[30 31 32 33 34 35 36 37 38 39 40 41 42 43 44 45 46 47 48 49 50 51 52 53\n",
            " 54 55 56 57 58 59 60 61 62 63 64 65 66 67 68 69 70]\n"
          ]
        }
      ]
    },
    {
      "cell_type": "markdown",
      "source": [
        "About **np.arange()**\n",
        "\n",
        "Reference Link: https://numpy.org/doc/stable/reference/generated/numpy.arange.html\n",
        "\n",
        "There are three mazor attribute of this function\n",
        "\n",
        "1- Start (optional Default value is 0)\n",
        "\n",
        "2- Stop (mandatory)\n",
        "\n",
        "3- Step (optional Default value is 1)\n",
        "\n",
        "Return the Integers from start (inclusive) to stop (exclusive) with the interval equals to step."
      ],
      "metadata": {
        "id": "htiNusc21Hgm"
      }
    },
    {
      "cell_type": "markdown",
      "source": [
        "**Question 06:- Write a NumPy program to create an array of all even\n",
        "integers from 30 to 70.**"
      ],
      "metadata": {
        "id": "J4JDHfWM2Sy_"
      }
    },
    {
      "cell_type": "markdown",
      "source": [
        "Answer"
      ],
      "metadata": {
        "id": "ig5axx3f2ZCK"
      }
    },
    {
      "cell_type": "code",
      "source": [
        "import numpy as np\n",
        "arr = np.arange(30,71,2)\n",
        "print(arr)"
      ],
      "metadata": {
        "colab": {
          "base_uri": "https://localhost:8080/"
        },
        "id": "hQuU2Jxs2ahS",
        "outputId": "75ec669d-0819-470b-9576-610ebe0ebb0c"
      },
      "execution_count": 8,
      "outputs": [
        {
          "output_type": "stream",
          "name": "stdout",
          "text": [
            "[30 32 34 36 38 40 42 44 46 48 50 52 54 56 58 60 62 64 66 68 70]\n"
          ]
        }
      ]
    },
    {
      "cell_type": "markdown",
      "source": [
        "**Question 07:- Write a NumPy program to create a 3x3 identity matrix.**"
      ],
      "metadata": {
        "id": "Lg0Jcfia2oWw"
      }
    },
    {
      "cell_type": "markdown",
      "source": [
        "Answer"
      ],
      "metadata": {
        "id": "bU7kBpGe28n-"
      }
    },
    {
      "cell_type": "markdown",
      "source": [
        "**Method 01**"
      ],
      "metadata": {
        "id": "0YXUj5aK_Umb"
      }
    },
    {
      "cell_type": "code",
      "source": [
        "import numpy as np\n",
        "matrix = np.arange(10,19).reshape((3, 3))\n",
        "print(matrix)"
      ],
      "metadata": {
        "colab": {
          "base_uri": "https://localhost:8080/"
        },
        "id": "gWYT7CKd_ULN",
        "outputId": "0e7f300e-b2c7-4e82-d6a3-4faac606d952"
      },
      "execution_count": 9,
      "outputs": [
        {
          "output_type": "stream",
          "name": "stdout",
          "text": [
            "[[10 11 12]\n",
            " [13 14 15]\n",
            " [16 17 18]]\n"
          ]
        }
      ]
    },
    {
      "cell_type": "markdown",
      "source": [
        "About **np.reshape()**\n",
        "\n",
        "Reference Link: https://numpy.org/doc/stable/reference/generated/numpy.reshape.html\n",
        "\n",
        "This function is used to reshape the array"
      ],
      "metadata": {
        "id": "QJz71QCu_uWU"
      }
    },
    {
      "cell_type": "markdown",
      "source": [
        "**Method 02**"
      ],
      "metadata": {
        "id": "ja3hkaZ--UqF"
      }
    },
    {
      "cell_type": "code",
      "source": [
        "import numpy as np\n",
        "elements = np.arange(123,132)\n",
        "print(elements)\n",
        "print()\n",
        "matrix = np.reshape(elements,(3,3))\n",
        "print(matrix)"
      ],
      "metadata": {
        "colab": {
          "base_uri": "https://localhost:8080/"
        },
        "id": "gU_vO4b82-F3",
        "outputId": "ce69b646-e92a-4a71-f034-033111cd7c08"
      },
      "execution_count": 10,
      "outputs": [
        {
          "output_type": "stream",
          "name": "stdout",
          "text": [
            "[123 124 125 126 127 128 129 130 131]\n",
            "\n",
            "[[123 124 125]\n",
            " [126 127 128]\n",
            " [129 130 131]]\n"
          ]
        }
      ]
    },
    {
      "cell_type": "markdown",
      "source": [
        "**Method 03**"
      ],
      "metadata": {
        "id": "mc-1_94r-YEh"
      }
    },
    {
      "cell_type": "code",
      "source": [
        "import numpy as np\n",
        "elements = np.random.randint(100,200,9)\n",
        "print(elements)\n",
        "print()\n",
        "matrix = np.reshape(elements,(3,3))\n",
        "print(matrix)"
      ],
      "metadata": {
        "colab": {
          "base_uri": "https://localhost:8080/"
        },
        "id": "RdwDLntB-a8b",
        "outputId": "bb3f690f-9dd8-4c26-b9cd-0a6c9c1240c4"
      },
      "execution_count": 11,
      "outputs": [
        {
          "output_type": "stream",
          "name": "stdout",
          "text": [
            "[155 158 168 107 149 145 130 192 181]\n",
            "\n",
            "[[155 158 168]\n",
            " [107 149 145]\n",
            " [130 192 181]]\n"
          ]
        }
      ]
    },
    {
      "cell_type": "markdown",
      "source": [
        "About           **np.random.randint()**\n",
        "\n",
        "Reference Link: https://numpy.org/doc/stable/reference/random/generated/numpy.random.randint.html\n",
        "\n",
        "there are two major ttributes\n",
        "\n",
        "1- Low\n",
        "\n",
        "2- High\n",
        "\n",
        "Return random integers from low (inclusive) to high (exclusive)."
      ],
      "metadata": {
        "id": "Q3gy8w1oA0-F"
      }
    },
    {
      "cell_type": "markdown",
      "source": [
        "**Method 04**"
      ],
      "metadata": {
        "id": "3n_7chjaCzIy"
      }
    },
    {
      "cell_type": "code",
      "source": [
        "import numpy as np\n",
        "matrix = np.random.randint(1,size=(3,3))\n",
        "print(matrix)"
      ],
      "metadata": {
        "colab": {
          "base_uri": "https://localhost:8080/"
        },
        "id": "mDyFeZdMC11j",
        "outputId": "8b951eb6-8ddf-4f0f-ec3a-ab540f2e0f0c"
      },
      "execution_count": 12,
      "outputs": [
        {
          "output_type": "stream",
          "name": "stdout",
          "text": [
            "[[0 0 0]\n",
            " [0 0 0]\n",
            " [0 0 0]]\n"
          ]
        }
      ]
    },
    {
      "cell_type": "markdown",
      "source": [
        "Iteration on matrix"
      ],
      "metadata": {
        "id": "SjY560crF871"
      }
    },
    {
      "cell_type": "code",
      "source": [
        "import numpy as np\n",
        "a = np.arange(10,22).reshape((3, 4))\n",
        "print(\"Original array: \")\n",
        "print(a)\n",
        "print(\":Each element of the array is: \")\n",
        "for x in np.nditer(a):\n",
        "  print(x,end=\" \")"
      ],
      "metadata": {
        "colab": {
          "base_uri": "https://localhost:8080/"
        },
        "id": "s1wBoMdN7yyX",
        "outputId": "1be372fb-4a4d-4078-c4f2-5345bbc1fe54"
      },
      "execution_count": 13,
      "outputs": [
        {
          "output_type": "stream",
          "name": "stdout",
          "text": [
            "Original array: \n",
            "[[10 11 12 13]\n",
            " [14 15 16 17]\n",
            " [18 19 20 21]]\n",
            ":Each element of the array is: \n",
            "10 11 12 13 14 15 16 17 18 19 20 21 "
          ]
        }
      ]
    },
    {
      "cell_type": "code",
      "source": [
        "import numpy as np\n",
        "print(np.random.randint(10,size=(3,3,3,3)))"
      ],
      "metadata": {
        "colab": {
          "base_uri": "https://localhost:8080/"
        },
        "id": "SxhvpIRxCTU3",
        "outputId": "8de1d1aa-a7de-47f2-f8e4-729bcd8759b6"
      },
      "execution_count": 14,
      "outputs": [
        {
          "output_type": "stream",
          "name": "stdout",
          "text": [
            "[[[[4 3 1]\n",
            "   [5 0 4]\n",
            "   [0 0 7]]\n",
            "\n",
            "  [[4 8 4]\n",
            "   [4 4 6]\n",
            "   [2 3 1]]\n",
            "\n",
            "  [[3 1 9]\n",
            "   [5 0 5]\n",
            "   [6 4 6]]]\n",
            "\n",
            "\n",
            " [[[2 7 8]\n",
            "   [0 8 7]\n",
            "   [7 1 6]]\n",
            "\n",
            "  [[1 6 7]\n",
            "   [1 0 7]\n",
            "   [3 6 0]]\n",
            "\n",
            "  [[2 1 5]\n",
            "   [8 5 8]\n",
            "   [2 5 2]]]\n",
            "\n",
            "\n",
            " [[[7 4 6]\n",
            "   [9 2 4]\n",
            "   [0 0 0]]\n",
            "\n",
            "  [[9 0 8]\n",
            "   [0 9 0]\n",
            "   [5 8 8]]\n",
            "\n",
            "  [[5 5 1]\n",
            "   [3 1 5]\n",
            "   [6 6 9]]]]\n"
          ]
        }
      ]
    }
  ]
}